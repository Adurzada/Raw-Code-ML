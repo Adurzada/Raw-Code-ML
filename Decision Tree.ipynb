{
 "cells": [
  {
   "cell_type": "code",
   "execution_count": 45,
   "id": "dcf9fcc6",
   "metadata": {},
   "outputs": [],
   "source": [
    "import numpy as np\n",
    "from collections import Counter\n",
    "def entropy(y):\n",
    "    hist = np.bincount(y)\n",
    "    ps = hist/len(y)\n",
    "    return -np.sum([p*np.log2(p) for p in ps if p > 0])\n",
    "class Node:\n",
    "    def __init__(self, feature=None, threshold = None, left = None, right=None,*,value = None):\n",
    "        self.feature = feature\n",
    "        self.threshold = threshold\n",
    "        self.left = left\n",
    "        self.right = right\n",
    "        self.value = value\n",
    "    def is_leaf(self):\n",
    "        return self.value is not None\n",
    "\n",
    "class DecisionTree:\n",
    "    def __init__(self,min_samples_split = 2,max_depth = 100,n_feats = None):\n",
    "        self.min_samples_split = min_samples_split\n",
    "        self.max_depth = max_depth\n",
    "        self.n_feats = n_feats\n",
    "        self.root = None\n",
    "    def most_common_labels(self,y):\n",
    "        counter = Counter(y)\n",
    "        most_comm = counter.most_common(1)[0][0]\n",
    "        return most_comm\n",
    "\n",
    "    def best_criteria(self,x,y,feat_ids):\n",
    "        best_gain = -1\n",
    "        split_ids, split_thresh = None, None\n",
    "        for id1 in feat_ids:\n",
    "            x_col = x[:,id1]\n",
    "            thresholds = np.unique(x_col)\n",
    "            for threshold in thresholds:\n",
    "                gain = self.information_gain(y, x_col, threshold)\n",
    "                if gain > best_gain:\n",
    "                    best_gain = gain\n",
    "                    split_id = id1\n",
    "                    split_thresh = threshold\n",
    "        return split_id, split_thresh\n",
    "    def information_gain(self,y,x_col, threshold):\n",
    "        parent = entropy(y)\n",
    "        left_ids, right_ids = self.split(x_col, threshold)\n",
    "        if len(left_ids) == 0 or len(right_ids) == 0:\n",
    "            return 0\n",
    "        n = len(y)\n",
    "        n_l, n_r = len(left_ids),len(right_ids)\n",
    "        e_l, e_r = entropy(y[left_ids]),entropy(y[right_ids])\n",
    "        child = (n_l/n) * e_l + (n_r/n) * e_r\n",
    "        ig = parent - child\n",
    "        return ig\n",
    "        \n",
    "        \n",
    "        \n",
    "        \n",
    "    def split(self, x_col, split_thresh):\n",
    "        left_ids = np.argwhere(x_col <= split_thresh).flatten()\n",
    "        right_ids = np.argwhere(x_col > split_thresh).flatten()\n",
    "        return left_ids, right_ids\n",
    "        \n",
    "    def grow_tree(self,x,y,depth = 0):\n",
    "        n_samples, n_features = x.shape\n",
    "        n_labels = len(np.unique(y))\n",
    "        \n",
    "        if (depth > self.max_depth or n_labels == 1 or n_samples < self.min_samples_split):\n",
    "            leaf_value = self.most_common_labels(y)\n",
    "            return Node(value = leaf_value)\n",
    "        feat_ids = np.random.choice(n_features,self.n_feats,replace = False)\n",
    "        best_feat, best_thresh = self.best_criteria(x,y,feat_ids)\n",
    "        left_ids, right_ids = self.split(x[:,best_feat],best_thresh)\n",
    "        left = self.grow_tree(x[left_ids,:], y[left_ids],depth+1)\n",
    "        right = self.grow_tree(x[right_ids,:],y[right_ids],depth+1)\n",
    "        return Node(best_feat, best_thresh, left, right)\n",
    "        \n",
    "    def fit(self,x,y):\n",
    "        self.n_feats = x.shape[1] if not self.n_feats else min(self.n_feats, x.shape[1])\n",
    "        \n",
    "        self.root = self.grow_tree(x,y)\n",
    "    \n",
    "    def predict(self,xs):\n",
    "            \n",
    "        return np.array([self.traverse_tree(x,self.root) for x in xs])\n",
    "    def traverse_tree(self,x, node):\n",
    "        if node.is_leaf():\n",
    "            return node.value\n",
    "        if x[node.feature] <= node.threshold:\n",
    "            return self.traverse_tree(x,node.left)\n",
    "        return self.traverse_tree(x,node.right)\n",
    "    \n",
    "        \n",
    "        "
   ]
  },
  {
   "cell_type": "code",
   "execution_count": 46,
   "id": "e4af11b4",
   "metadata": {},
   "outputs": [],
   "source": [
    "from sklearn import datasets\n",
    "from sklearn.model_selection import train_test_split\n",
    "def accuracy(y,yt):\n",
    "    return np.sum(y == yt) / len(y)\n",
    "data = datasets.load_breast_cancer()\n",
    "x = data.data\n",
    "y = data.target\n",
    "xt,xtest,yt,ytest = train_test_split(x,y,test_size=0.2,random_state=1234)\n",
    "clf = DecisionTree(max_depth=20)"
   ]
  },
  {
   "cell_type": "code",
   "execution_count": 47,
   "id": "0498b77a",
   "metadata": {},
   "outputs": [],
   "source": [
    "clf.fit(xt,yt)"
   ]
  },
  {
   "cell_type": "code",
   "execution_count": 48,
   "id": "04a1a79b",
   "metadata": {},
   "outputs": [
    {
     "name": "stdout",
     "output_type": "stream",
     "text": [
      "0.9210526315789473\n"
     ]
    }
   ],
   "source": [
    "ypred = clf.predict(xtest)\n",
    "acc = accuracy(ytest,ypred)\n",
    "print(acc)"
   ]
  },
  {
   "cell_type": "code",
   "execution_count": 53,
   "id": "fac6bc1c",
   "metadata": {},
   "outputs": [],
   "source": [
    "def bootstrap(x,y):\n",
    "    n_samples = x.shape[0]\n",
    "    ids = np.random.choice(n_samples, size = n_samples, replace=True)\n",
    "    return x[ids], y[ids]\n",
    "class RandomForest:\n",
    "    \n",
    "    def __init__(self, n_trees=100,min_sample_split=2,max_depth = 100, n_feats = None):\n",
    "        self.n_trees = n_trees\n",
    "        self.min_sample_split = min_sample_split\n",
    "        self.max_depth = max_depth\n",
    "        self.n_feats = n_feats\n",
    "        self.trees = []\n",
    "    \n",
    "    def most_common_labels(self,y):\n",
    "        counter = Counter(y)\n",
    "        most_comm = counter.most_common(1)[0][0]\n",
    "        return most_comm\n",
    "    \n",
    "    def fit(self,x,y):\n",
    "        self.trees = []\n",
    "        for i in range(self.n_trees):\n",
    "            tree = DecisionTree(min_samples_split=self.min_sample_split, max_depth=self.max_depth, n_feats=self.n_feats)   \n",
    "            xsample,ysample = bootstrap(x,y)\n",
    "            tree.fit(xsample,ysample)\n",
    "            self.trees.append(tree)\n",
    "    \n",
    "    def predict(self,x):\n",
    "        tree_preds = np.array([tree.predict(x) for tree in self.trees])\n",
    "        # \n",
    "        tree_preds = np.swapaxes(tree_preds,0,1)\n",
    "        y_pred = np.array([self.most_common_labels(tree_pred) for tree_pred in tree_preds])\n",
    "        return y_pred\n",
    "    "
   ]
  },
  {
   "cell_type": "code",
   "execution_count": 57,
   "id": "58dee528",
   "metadata": {},
   "outputs": [],
   "source": [
    "rf = RandomForest(n_trees = 5)\n",
    "rf.fit(xt,yt)"
   ]
  },
  {
   "cell_type": "code",
   "execution_count": 58,
   "id": "3edeaa70",
   "metadata": {},
   "outputs": [],
   "source": [
    "preds = rf.predict(xtest)\n",
    "acc = accuracy(preds, ytest)\n"
   ]
  },
  {
   "cell_type": "code",
   "execution_count": 59,
   "id": "38f234c4",
   "metadata": {},
   "outputs": [
    {
     "data": {
      "text/plain": [
       "0.9298245614035088"
      ]
     },
     "execution_count": 59,
     "metadata": {},
     "output_type": "execute_result"
    }
   ],
   "source": [
    "acc"
   ]
  },
  {
   "cell_type": "code",
   "execution_count": null,
   "id": "5ad06bf8",
   "metadata": {},
   "outputs": [],
   "source": []
  }
 ],
 "metadata": {
  "kernelspec": {
   "display_name": "Python 3 (ipykernel)",
   "language": "python",
   "name": "python3"
  },
  "language_info": {
   "codemirror_mode": {
    "name": "ipython",
    "version": 3
   },
   "file_extension": ".py",
   "mimetype": "text/x-python",
   "name": "python",
   "nbconvert_exporter": "python",
   "pygments_lexer": "ipython3",
   "version": "3.9.7"
  }
 },
 "nbformat": 4,
 "nbformat_minor": 5
}
